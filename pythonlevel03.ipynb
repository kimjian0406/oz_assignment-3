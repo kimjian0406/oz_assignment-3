{
  "nbformat": 4,
  "nbformat_minor": 0,
  "metadata": {
    "colab": {
      "provenance": [],
      "authorship_tag": "ABX9TyNnf3iWDz+PikmQ4KZwnr7S",
      "include_colab_link": true
    },
    "kernelspec": {
      "name": "python3",
      "display_name": "Python 3"
    },
    "language_info": {
      "name": "python"
    }
  },
  "cells": [
    {
      "cell_type": "markdown",
      "metadata": {
        "id": "view-in-github",
        "colab_type": "text"
      },
      "source": [
        "<a href=\"https://colab.research.google.com/github/kimjian0406/oz_assignment-3/blob/main/pythonlevel03.ipynb\" target=\"_parent\"><img src=\"https://colab.research.google.com/assets/colab-badge.svg\" alt=\"Open In Colab\"/></a>"
      ]
    },
    {
      "cell_type": "markdown",
      "source": [
        "<br>\n",
        "\n",
        "__[문제2]__\n",
        "\n",
        "변수 num에 \"45.67\" 이라는 문자열을 할당하고,\n",
        "\n",
        "파이썬 나라에서 돌다리를 건너려고 합니다.\n",
        "\n",
        "이 돌다리는 반드시 두드려 보고 건너야 합니다.\n",
        "\n",
        "미션을 해결하면 자동으로 단단한 돌다리인지 확인 됩니다!\n",
        "\n",
        "아래의 미션을 확인하고 돌다리를 건너주세요!\n",
        "\n",
        "<br>\n",
        "\n",
        "__미션__\n",
        "- 문자열 할당 (num)\n",
        "- 소수점 포함 숫자로 출력\n",
        "- 정수만 출력\n",
        "\n",
        "<br>"
      ],
      "metadata": {
        "id": "we_cuRUUoeji"
      }
    },
    {
      "cell_type": "code",
      "source": [
        "#문자열 할당\n",
        "unm = 45.67\n",
        "\n",
        "# float 를이용해 소수점 포함 숫자로 출력\n",
        "result = float(unm)\n",
        "\n",
        "# int 를 이용해정수만 출력\n",
        "result_int = int(unm)\n",
        "\n",
        "print(result_int)\n",
        "\n",
        "#그냥 두드리고 확인해서 건너고 싶어요"
      ],
      "metadata": {
        "colab": {
          "base_uri": "https://localhost:8080/"
        },
        "id": "WRI1_pekokCc",
        "outputId": "fe64f677-391c-40dc-a216-cc26f491e059"
      },
      "execution_count": 1,
      "outputs": [
        {
          "output_type": "stream",
          "name": "stdout",
          "text": [
            "45\n"
          ]
        }
      ]
    },
    {
      "cell_type": "markdown",
      "source": [
        "<br>\n",
        "\n",
        "__[문제3]__\n",
        "\n",
        "첫 번째 공백을 기준으로 앞부분만 추출해주세요!\n",
        "\n",
        "<br>\n",
        "\n",
        "__text = \"Hello World Python\"__\n"
      ],
      "metadata": {
        "id": "6_x0fOf7owgY"
      }
    },
    {
      "cell_type": "code",
      "source": [
        "#변수 가저오기\n",
        "text = \"Hello World Python\"\n",
        "\n",
        "# 공백 을 기준으로 나누기\n",
        "text2 = text.split(\" \")\n",
        "\n",
        "#나눠서 공백기준 Hello 만 가져오기?\n",
        "text3 = text2[0]\n",
        "\n",
        "#결과\n",
        "print(text3)"
      ],
      "metadata": {
        "colab": {
          "base_uri": "https://localhost:8080/"
        },
        "id": "A2JGjZH8oxN3",
        "outputId": "d4dbd210-f003-463c-ba21-ae21bf9ba21f"
      },
      "execution_count": 2,
      "outputs": [
        {
          "output_type": "stream",
          "name": "stdout",
          "text": [
            "Hello\n"
          ]
        }
      ]
    },
    {
      "cell_type": "markdown",
      "source": [
        "<br>__[문제4]__\n",
        "\n",
        "문자열 \"PythonProgramming\" 이 주어졌을 때, 다음 미션을 해결해주세요!\n",
        "\n",
        "<br>\n",
        "\n",
        "__미션__\n",
        "- \"Python\"을 출력\n",
        "- \"Programming\" 출력\n",
        "- \"Pyg\" 출력\n",
        "- \"in\" 출력"
      ],
      "metadata": {
        "id": "xkMHEYRJo3Ik"
      }
    },
    {
      "cell_type": "code",
      "source": [
        "#문자열 나열\n",
        "text = \"PythonProgramming\"\n",
        "\n",
        "\n",
        "# Python 만 출력\n",
        "text1 = text.replace(\"Programming\", \"\")\n",
        "\n",
        "print(text1)\n",
        "\n",
        "# Programming 만 출력\n",
        "text2 = text.replace(\"Python\", \"\")\n",
        "\n",
        "print(text2)\n",
        "\n",
        "# Pyg 만 출력\n",
        "text3 = text.replace(\"thonProgrammin\", \"\")\n",
        "\n",
        "print(text3)\n",
        "\n",
        "# in만 출력\n",
        "text4 = text[14:16]\n",
        "\n",
        "print(text4)"
      ],
      "metadata": {
        "colab": {
          "base_uri": "https://localhost:8080/"
        },
        "id": "6pyf73RHo5gg",
        "outputId": "8549c1ff-ddd4-4854-f6a4-0c621e8cc627"
      },
      "execution_count": 3,
      "outputs": [
        {
          "output_type": "stream",
          "name": "stdout",
          "text": [
            "Python\n",
            "Programming\n",
            "Pyg\n",
            "in\n"
          ]
        }
      ]
    },
    {
      "cell_type": "markdown",
      "source": [
        "__[문제5]__\n",
        "\n",
        "해외로 편지를 보냅니다.\n",
        "\n",
        "영어를 알파벳만 알기 때문에 아는 것만 적어 보내려고 합니다.\n",
        "\n",
        "근데 중간에 오타가 발생해버렸네요! 문자열의 일부를 바꿔 올바르게 고쳐 주세요. (소문자)\n",
        "\n",
        "<br>\n",
        "\n",
        "__word = \"abcXYZgh\"__\n"
      ],
      "metadata": {
        "id": "CCGv4Hd3o8wV"
      }
    },
    {
      "cell_type": "code",
      "source": [
        "#변수 문자 출력\n",
        "word = \"abcXYZgh\"\n",
        "\n",
        "# 아는영어 중 대문자 오타가 있어 소문자로 수정해주기\n",
        "result = word.replace(\"XYZ\", \"xyz\")\n",
        "\n",
        "# 결과\n",
        "print(result)"
      ],
      "metadata": {
        "colab": {
          "base_uri": "https://localhost:8080/"
        },
        "id": "OsbyaVfMo9o_",
        "outputId": "947ef9ff-f480-4cd3-976e-8187ea558e55"
      },
      "execution_count": 4,
      "outputs": [
        {
          "output_type": "stream",
          "name": "stdout",
          "text": [
            "abcxyzgh\n"
          ]
        }
      ]
    }
  ]
}