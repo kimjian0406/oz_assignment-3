{
  "nbformat": 4,
  "nbformat_minor": 0,
  "metadata": {
    "colab": {
      "provenance": [],
      "authorship_tag": "ABX9TyNfOa3J45KbwDFGBCwc7CSH"
    },
    "kernelspec": {
      "name": "python3",
      "display_name": "Python 3"
    },
    "language_info": {
      "name": "python"
    }
  },
  "cells": [
    {
      "cell_type": "markdown",
      "source": [],
      "metadata": {
        "id": "gYvNlt7mnHr_"
      }
    },
    {
      "cell_type": "markdown",
      "source": [
        "안녕하세요.<br><br>\n",
        "수강생 여러분~!\n",
        "\n",
        "\"Challenge : Chapter05 ~ 08 문제풀기\"는 잘 풀어보셨나요?\n",
        "\n",
        "\n",
        "너~~무 어려웠어요! 하는 분들을 위해 만들어봤습니다!\n",
        "\n",
        "문제 도장깨기 !!!!!\n",
        "\n",
        "차근차근 풀어나가면 파이썬 정복 가능입니다!\n",
        "\n",
        "화이팅 !\n",
        "\n",
        "\n",
        "Chapter05~08의 수업 내용을 바탕으로 아래 문제를 풀어주시면 됩니다.\n",
        "\n",
        "<br>\n",
        "\n",
        "[**답변 입력 방법**]\n",
        "\n",
        "문제 아래에 있는 코드 입력창에 정답코드를 작성하신 후  __▷ 버튼을 클릭해 코드를 실행__ 해보세요<br>\n",
        "<br>"
      ],
      "metadata": {
        "id": "-Qm10PIHnHs7"
      }
    },
    {
      "cell_type": "markdown",
      "source": [
        "<br>\n",
        "\n",
        "__[문제1]__\n",
        "\n",
        "코딩나라는 파이썬 문법을 통해 타이틀을 바꿔주면 신분을 변경할 수 있습니다.\n",
        "평민이 왕의 타이틀을 뻇으려고 합니다.\n",
        "평민의 신분상승 도와주세요 ! 그리고 출력으로 확인시켜주세요 !\n",
        "\n",
        "<br>\n",
        "출력 예)\n",
        "\n",
        "평민은 이제 '왕'\n",
        "\n",
        "왕은 이제 '평민'\n",
        "<br>"
      ],
      "metadata": {
        "id": "FhQcsuqQnIR7"
      }
    },
    {
      "cell_type": "code",
      "source": [
        "# 평민 타이틀 왕 타이틀\n",
        "a = \"평민은 평민\"\n",
        "b = \"왕은 왕\"\n",
        "\n",
        "#.replace(바꿀 대상 , 바꾸려는 문자) 해서 바꾸기\n",
        "평민 = a.replace(\"평민은 평민\" , \"평민은 이제 왕\")\n",
        "왕 = b.replace(\"왕은 왕\" , \"왕은 이제 평민\")\n",
        "\n",
        "# 결과\n",
        "print(평민)\n",
        "print(왕)"
      ],
      "metadata": {
        "colab": {
          "base_uri": "https://localhost:8080/"
        },
        "id": "gxGghgranKO4",
        "outputId": "4716b762-9bae-4e7d-c306-a442eeced583"
      },
      "execution_count": 1,
      "outputs": [
        {
          "output_type": "stream",
          "name": "stdout",
          "text": [
            "평민은 이제 왕\n",
            "왕은 이제 평민\n"
          ]
        }
      ]
    },
    {
      "cell_type": "markdown",
      "source": [
        "<br>\n",
        "\n",
        "__[문제2]__\n",
        "\n",
        "꿈에서 숫자가 보였습니다.\n",
        "\n",
        "바로 로또를 사려고 하는데 앗 숫자가 너무 길어요 !\n",
        "\n",
        "정수부분만 잘라서 로또 번호를 골라보기로 했습니다.\n",
        "\n",
        "122211170788345.273782741828653689149813 정수 부분만 출력해주세요.\n",
        "\n",
        "\n",
        "<br>"
      ],
      "metadata": {
        "id": "Z7ORHQ2ZnUC6"
      }
    },
    {
      "cell_type": "code",
      "source": [
        "# 변수에 숫자 불러오기\n",
        "a = 122211170788345.273782741828653689149813\n",
        "\n",
        "# int 를 이용하여 정수 부분만 출력하기\n",
        "result = int(a)\n",
        "\n",
        "# 결과\n",
        "print(result)"
      ],
      "metadata": {
        "colab": {
          "base_uri": "https://localhost:8080/"
        },
        "id": "vMVj5GBynVjc",
        "outputId": "9b681a8b-0744-43af-f788-04ac6699eea8"
      },
      "execution_count": 2,
      "outputs": [
        {
          "output_type": "stream",
          "name": "stdout",
          "text": [
            "122211170788345\n"
          ]
        }
      ]
    },
    {
      "cell_type": "markdown",
      "source": [
        "<br>\n",
        "\n",
        "__[문제3]__\n",
        "\n",
        "\n",
        "sentence 변수를 할당하고, 양쪽 공백을 제거한 후 출력해주세요 !\n",
        "\n",
        "<br>\n",
        "\n",
        "__sentence = \" Hello World!  \"__\n"
      ],
      "metadata": {
        "id": "hzdVPsu0na0m"
      }
    },
    {
      "cell_type": "code",
      "source": [
        "#1번\n",
        "# 변수\n",
        "sentence = \" Hello World!  \"\n",
        "\n",
        "# strip() 함수를 이용해 양쪽 공백 제거\n",
        "result = sentence.strip()\n",
        "\n",
        "# 결과\n",
        "print(result)"
      ],
      "metadata": {
        "colab": {
          "base_uri": "https://localhost:8080/"
        },
        "id": "2Xs9xmDdndPX",
        "outputId": "05aa2d97-4782-4ad5-977b-f13f1027f77c"
      },
      "execution_count": 3,
      "outputs": [
        {
          "output_type": "stream",
          "name": "stdout",
          "text": [
            "Hello World!\n"
          ]
        }
      ]
    },
    {
      "cell_type": "markdown",
      "source": [
        "<br>__[문제4]__\n",
        "\n",
        "산만이가 집중력 테스트를 하기로 합니다.\n",
        "\n",
        "아주아주 긴 문자열이 있는데 여기에서 s의 횟수를 세보라고 합니다.\n",
        "\n",
        "파이썬을 배운 산만이에게는 꼼수가 있습니다.\n",
        "\n",
        "어떤 꼼수를 사용했을지 코드로 작성하고, 출력해주세요 !\n",
        "\n",
        "<br>\n",
        "\n",
        "__str = \"sdsdsddddddsdsssdssssdssssdsdssssssssssdsdsdsdsdssssdsdsssdssssdssssdsdssdsssdssssdssssdsdssdsssdssssdssssdsdssdsssdssssdssssdsdss\"__\n"
      ],
      "metadata": {
        "id": "oz-DxFggnhX9"
      }
    },
    {
      "cell_type": "code",
      "source": [
        "# 변수 잘 복사했나?\n",
        "str = \"sdsdsddddddsdsssdssssdssssdsdssssssssssdsdsdsdsdssssdsdsssdssssdssssdsdssdsssdssssdssssdsdss\"\n",
        "\n",
        "# count() 를 이용하여 원하는 S 글 갯수 확인하기\n",
        "result = str.count(\"s\")\n",
        "\n",
        "# 결과\n",
        "print(result)#"
      ],
      "metadata": {
        "colab": {
          "base_uri": "https://localhost:8080/"
        },
        "id": "eXpvN4ziniMW",
        "outputId": "4351b8f4-7640-4c01-926e-fd2b2034eb9f"
      },
      "execution_count": 4,
      "outputs": [
        {
          "output_type": "stream",
          "name": "stdout",
          "text": [
            "63\n"
          ]
        }
      ]
    },
    {
      "cell_type": "markdown",
      "source": [
        "__[문제5]__\n",
        "\n",
        "\n",
        "변수 data에 \"apple, banana, cherry\"를 할당하고, 이를 쉼표 기준으로 분리하여 출력해주세요 !"
      ],
      "metadata": {
        "id": "8Y2ojwKvnrF1"
      }
    },
    {
      "cell_type": "code",
      "source": [
        "# data에 사과 바나나 체리 이름 할당\n",
        "data = \"apple, banana, cherry\"\n",
        "\n",
        "# split(\",\") 로 이름 쉼표 기준으로 분리\n",
        "result = data.split(\",\")\n",
        "\n",
        "# 결과\n",
        "print(result)"
      ],
      "metadata": {
        "colab": {
          "base_uri": "https://localhost:8080/"
        },
        "id": "v2JX079YnszS",
        "outputId": "356e3548-bb97-4809-fb58-7f2504556480"
      },
      "execution_count": 5,
      "outputs": [
        {
          "output_type": "stream",
          "name": "stdout",
          "text": [
            "['apple', ' banana', ' cherry']\n"
          ]
        }
      ]
    }
  ]
}