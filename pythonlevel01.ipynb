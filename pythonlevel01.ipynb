{
  "nbformat": 4,
  "nbformat_minor": 0,
  "metadata": {
    "colab": {
      "provenance": [],
      "authorship_tag": "ABX9TyNr3RvKnXztXtJITeXXm1o1"
    },
    "kernelspec": {
      "name": "python3",
      "display_name": "Python 3"
    },
    "language_info": {
      "name": "python"
    }
  },
  "cells": [
    {
      "cell_type": "markdown",
      "source": [
        "안녕하세요.<br><br>\n",
        "수강생 여러분~!\n",
        "\n",
        "\"Challenge : Chapter05 ~ 08 문제풀기\"는 잘 풀어보셨나요?\n",
        "\n",
        "\n",
        "너~~무 어려웠어요! 하는 분들을 위해 만들어봤습니다!\n",
        "\n",
        "문제 도장깨기 !!!!!\n",
        "\n",
        "차근차근 풀어나가면 파이썬 정복 가능입니다!\n",
        "\n",
        "화이팅 !\n",
        "\n",
        "\n",
        "Chapter05~08의 수업 내용을 바탕으로 아래 문제를 풀어주시면 됩니다.\n",
        "\n",
        "<br>\n",
        "\n",
        "[**답변 입력 방법**]\n",
        "\n",
        "문제 아래에 있는 코드 입력창에 정답코드를 작성하신 후  __▷ 버튼을 클릭해 코드를 실행__ 해보세요<br>\n",
        "<br>"
      ],
      "metadata": {
        "id": "csyFJ-y8luR_"
      }
    },
    {
      "cell_type": "markdown",
      "source": [
        "<br>\n",
        "\n",
        "__[문제1]__\n",
        "\n",
        "\n",
        "a와 b라는 변수를 각각 10과 20으로 초기화하고, 두 변수를 더한 값을 출력해보세요.\n",
        "\n",
        "\n",
        "<br>"
      ],
      "metadata": {
        "id": "y0XtSU4QlxtU"
      }
    },
    {
      "cell_type": "code",
      "source": [
        "from types import resolve_bases\n",
        "#a 와 b 라는 변수를 각각 10 과 20으로 설정\n",
        "a = 10\n",
        "b = 20\n",
        "\n",
        "#두 변수를 더한 값을 출력\n",
        "result = a + b\n",
        "\n",
        "#결과\n",
        "print(\"두 변수 합한결과:\",result)"
      ],
      "metadata": {
        "colab": {
          "base_uri": "https://localhost:8080/"
        },
        "id": "7PmhG_DQl09U",
        "outputId": "bd1ed754-fdda-42d7-8055-0812e59f03cd"
      },
      "execution_count": 1,
      "outputs": [
        {
          "output_type": "stream",
          "name": "stdout",
          "text": [
            "두 변수 합한결과: 30\n"
          ]
        }
      ]
    },
    {
      "cell_type": "markdown",
      "source": [
        "<br>\n",
        "\n",
        "__[문제2]__\n",
        "\n",
        "\n",
        "변수 num1에 15, num2에 4를 할당하고, 두 변수를 더한 값, 뺀 값, 곱한 값, 나눈 값을 각각 출력하세요.\n",
        "\n",
        "\n",
        "\n",
        "<br>"
      ],
      "metadata": {
        "id": "xiIszyqemDUI"
      }
    },
    {
      "cell_type": "code",
      "source": [
        "# 변수 num1 에 15 , num2 에 4 를 할당\n",
        "num1 = 15\n",
        "num2 = 4\n",
        "\n",
        "#두 변수를 더한 값, 뺀 값, 곱한 값, 나눈 값을 각각 출력\n",
        "print(\"더한 값:\",num1 + num2)\n",
        "print(\"뺀 값:\",num1 - num2)\n",
        "print(\"곱한 값:\",num1 * num2)\n",
        "print(\"나눈 값:\",num1 / num2)"
      ],
      "metadata": {
        "colab": {
          "base_uri": "https://localhost:8080/"
        },
        "id": "UzEY02YamEEp",
        "outputId": "792becde-3b86-41fa-c3bd-a3fa8a1a3772"
      },
      "execution_count": 2,
      "outputs": [
        {
          "output_type": "stream",
          "name": "stdout",
          "text": [
            "더한 값: 19\n",
            "뺀 값: 11\n",
            "곱한 값: 60\n",
            "나눈 값: 3.75\n"
          ]
        }
      ]
    },
    {
      "cell_type": "markdown",
      "source": [
        "<br>\n",
        "\n",
        "__[문제3]__\n",
        "\n",
        "변수 x에 5를 할당하고, 변수 y에 3을 할당한 후, x가 y보다 크거나 같은지 비교해서 bool타입으로 출력해주세요."
      ],
      "metadata": {
        "id": "r9aQGA1CmJ9p"
      }
    },
    {
      "cell_type": "code",
      "source": [
        "# 변수 x 에 5를 할당하고 , 변수 y에 3을 할당한다\n",
        "x = 5\n",
        "y = 3\n",
        "\n",
        "# x 가 y 보다 크거나 같은지 비교한다\n",
        "result = x >= y\n",
        "\n",
        "#결과를 bool 타입으로 출력한다\n",
        "print(bool(result))"
      ],
      "metadata": {
        "colab": {
          "base_uri": "https://localhost:8080/"
        },
        "id": "MVisBbTWmKmn",
        "outputId": "f84e98cc-96ea-4caa-8b5d-553564df4c88"
      },
      "execution_count": 3,
      "outputs": [
        {
          "output_type": "stream",
          "name": "stdout",
          "text": [
            "True\n"
          ]
        }
      ]
    },
    {
      "cell_type": "markdown",
      "source": [
        "<br>__[문제4]__\n",
        "\n",
        "자료형 (int, float, str, bool) 변수를 만들어보고, print()해서 결과를 확인하세요!\n"
      ],
      "metadata": {
        "id": "YAb6BjLdmQVE"
      }
    },
    {
      "cell_type": "code",
      "source": [
        "# 2번\n",
        "# 자료형 int, float str bool 변수를 만들어라\n",
        "b = 3.14\n",
        "c = True\n",
        "d = \"abc\"\n",
        "e = 1\n",
        "\n",
        "#print()해서 결과를 확인\n",
        "print(type(b))\n",
        "print(type(c))\n",
        "print(type(d))\n",
        "print(type(e))"
      ],
      "metadata": {
        "colab": {
          "base_uri": "https://localhost:8080/"
        },
        "id": "gLs12d9UmRAT",
        "outputId": "65f3006f-5b98-4bb0-a8ab-1aa58bbbb603"
      },
      "execution_count": 7,
      "outputs": [
        {
          "output_type": "stream",
          "name": "stdout",
          "text": [
            "<class 'float'>\n",
            "<class 'bool'>\n",
            "<class 'str'>\n",
            "<class 'int'>\n"
          ]
        }
      ]
    },
    {
      "cell_type": "markdown",
      "source": [
        "__[문제5]__\n",
        "\n",
        "str = \"야호야호야호호야호야야오햐오햐오햐오\"\n",
        "\n",
        "str을 3가지 이상의 다른 문자열 슬라이싱을 이용하여 확인해보세요!\n",
        "\n",
        "출력 예)\n",
        "\n",
        "처음 5글자: 야호야호야\n"
      ],
      "metadata": {
        "id": "GNqtmRepmWke"
      }
    },
    {
      "cell_type": "code",
      "source": [
        "# str 변수를 먼저 가져온다\n",
        "str = \"야호야호야호호야호야야오햐오햐오햐오\"\n",
        "\n",
        "# str을 3가지 이상의 다른 문자열 슬라이싱을 이용\n",
        "print(str[:4])\n",
        "print(str[::-2])\n",
        "print(str[-6:])"
      ],
      "metadata": {
        "colab": {
          "base_uri": "https://localhost:8080/"
        },
        "id": "4qlk5PN2mXMn",
        "outputId": "b5515c18-24aa-43b6-d249-aa5b3ded8e08"
      },
      "execution_count": 5,
      "outputs": [
        {
          "output_type": "stream",
          "name": "stdout",
          "text": [
            "야호야호\n",
            "오오오오야야호호호\n",
            "햐오햐오햐오\n"
          ]
        }
      ]
    }
  ]
}