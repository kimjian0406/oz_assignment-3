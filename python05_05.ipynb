{
  "nbformat": 4,
  "nbformat_minor": 0,
  "metadata": {
    "colab": {
      "provenance": [],
      "authorship_tag": "ABX9TyPUA8y21VlgW1uURq69NqaT"
    },
    "kernelspec": {
      "name": "python3",
      "display_name": "Python 3"
    },
    "language_info": {
      "name": "python"
    }
  },
  "cells": [
    {
      "cell_type": "markdown",
      "source": [
        "컴퓨터 기초 지식을 의미하는 CS(Computer science)는<br>\n",
        "코딩 테스트와 함께 기술 면접에서 지원자에게 필수적으로 요구합니다.<br>\n",
        "\n",
        "수업 내용 중 기술 면접에 자주 나오는 질문 3가지와 기본적으로 알아야 할 내용 과제로 선정했습니다.<br>\n",
        "\n",
        "관련 내용에 대해서는 구글링 또는 관련 서적을 통해 상세히 공부하시고<br>\n",
        "답변은 최대한 핵심만 담아 간결하게 작성해주세요<br>\n",
        "\n",
        "기술 블로그를 운영 중이신 경우<br>\n",
        "답변 내용을 기술 블로그에 작성하신 후 링크를 답변에 남겨주셔도 됩니다.<br>"
      ],
      "metadata": {
        "id": "SHhN94STiEMf"
      }
    },
    {
      "cell_type": "markdown",
      "source": [
        "[문제1]\n",
        "\n",
        "Python의 변수 할당 개념을 다른 언어와 비교해 설명해주세요\n"
      ],
      "metadata": {
        "id": "vfzII2OBiLAc"
      }
    },
    {
      "cell_type": "markdown",
      "source": [
        "자바에서는 변수 앞에 자료형을 명시 해야한다 이를 정적타입 이다 하고 변수 생성과 동시에 자료형이 결정 되면 이후 자료형으로 변경할수 없다. 그에 반해 python 변수 할당은 동적 타입이며 또한 코드에 의해 변수의 자료형이 결정된다는 차이점이 있습니다\n",
        "\n",
        "\n",
        "    java(예시\n",
        "\n",
        "    int a;\n",
        "    a = 1; // 가능\n",
        "    // a = \"1\"; 불가 error 발생\n",
        "\n",
        "\n",
        "    Python(예시\n",
        "\n",
        "    a = 1 # (int type)\n",
        "    a = \"1\" # (str type)\n",
        "    a = [1, 2, 3] # (list type) 모두 가능\n",
        "\n",
        "\n"
      ],
      "metadata": {
        "id": "6WwiXj7KiNVs"
      }
    },
    {
      "cell_type": "markdown",
      "source": [],
      "metadata": {
        "id": "yG3v6426iZFh"
      }
    },
    {
      "cell_type": "markdown",
      "source": [
        "[문제2]\n",
        "\n",
        "Python의 실수형(float) 계산 시 오차가 발생하는 이유에 대해 간단히 설명해 주세요"
      ],
      "metadata": {
        "id": "66TZFnHIibhJ"
      }
    },
    {
      "cell_type": "markdown",
      "source": [
        "python의 float 자료형은 64비트(8비트)를 사용해 표현합니다.\n"
      ],
      "metadata": {
        "id": "mOCWR1-cicWC"
      }
    },
    {
      "cell_type": "markdown",
      "source": [
        "[문제3]\n",
        "\n",
        "슬라이싱에 대해 간단히 설명해주세요"
      ],
      "metadata": {
        "id": "kEFBQB_SilS1"
      }
    },
    {
      "cell_type": "markdown",
      "source": [
        "- 파이썬에서 슬라이싱은 시퀀스 데이터 타입(list , tuple , str)의 일부를 추출하는 방법입니다.\n",
        "  \n",
        "  슬라이싱은 인덱스를 사용하여 원하는 범위의 요소를 선택하는데 유용 합니다.\n",
        "\n",
        "  일반적으로 seq[start_index:end_index:step]으로 사용합니다.\n",
        "\n",
        "  이러한 방법으로 데이터를 유연하게 추출하고 조작할 수 있도록 합니다.\n",
        "  - seq[start_index : end_index : step]\n",
        "\n"
      ],
      "metadata": {
        "id": "tz9vo_eMinAF"
      }
    }
  ]
}