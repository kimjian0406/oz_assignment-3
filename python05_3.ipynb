{
  "nbformat": 4,
  "nbformat_minor": 0,
  "metadata": {
    "colab": {
      "provenance": [],
      "authorship_tag": "ABX9TyMlvknj7NJbbzszz+aY/Y/K",
      "include_colab_link": true
    },
    "kernelspec": {
      "name": "python3",
      "display_name": "Python 3"
    },
    "language_info": {
      "name": "python"
    }
  },
  "cells": [
    {
      "cell_type": "markdown",
      "metadata": {
        "id": "view-in-github",
        "colab_type": "text"
      },
      "source": [
        "<a href=\"https://colab.research.google.com/github/kimjian0406/oz_assignment-3/blob/main/python05_3.ipynb\" target=\"_parent\"><img src=\"https://colab.research.google.com/assets/colab-badge.svg\" alt=\"Open In Colab\"/></a>"
      ]
    },
    {
      "cell_type": "markdown",
      "source": [
        "<span style=\"font-size:100%\">\n",
        "\n",
        "수업은 모두 열심히 들으셨나요?\n",
        "\n",
        "간혹 강의에서 언급되지 않은 내용이 문제로 나올 수 있습니다.<br>\n",
        "그럴땐 강의 내용 외 문제는 구글링을 통해 해결해주세요<br></span>\n",
        "<span style=\"font-size:80%\">\n",
        "(구글링 또한 개발자가 갖쳐야할 역량 중에 하나랍니다 😊)\n",
        "</span>\n",
        "\n",
        "---"
      ],
      "metadata": {
        "id": "yoJnTmS8fuzv"
      }
    },
    {
      "cell_type": "markdown",
      "source": [
        "<span style=\"font-size:80%\">[문제1]<br><br></span>\n",
        "```변수 퀴즈에 들어있는 정답 \"어중이떠중이\"를 출력하기 위한 슬라이싱으로 올바른 것을 모두 골라주세요```\n",
        "\n",
        "퀴즈 = \"스님이 공중에 뜬다를 4글자로 말하면? 어중이떠중이\"\n",
        "\n",
        "1. print(퀴즈[22:27])\n",
        "2. print(퀴즈[22:])\n",
        "3. print(퀴즈[22:28])\n",
        "4. print(퀴즈[28])"
      ],
      "metadata": {
        "id": "ED8cfKnFfwDx"
      }
    },
    {
      "cell_type": "markdown",
      "source": [
        "답변 2번 3번"
      ],
      "metadata": {
        "id": "g6EXxwlrfwgw"
      }
    },
    {
      "cell_type": "markdown",
      "source": [
        "<span style=\"font-size:80%\">[문제2]<br><br></span>\n",
        "```과일 변수에 들어있는 p의 개수를 구하는 코드로 올바른 것을 골라주세요```\n",
        "\n",
        "과일 = \"apple\"\n",
        "\n",
        "1. 과일.count('p')\n",
        "2. count(과일, 'p')\n",
        "3. 과일.index('p')\n",
        "4. count('p')"
      ],
      "metadata": {
        "id": "7K31Niycf0pv"
      }
    },
    {
      "cell_type": "markdown",
      "source": [
        "답변 1번"
      ],
      "metadata": {
        "id": "BItwomJOf1Vh"
      }
    },
    {
      "cell_type": "markdown",
      "source": [
        "<span style=\"font-size:80%\">[문제3]<br><br></span>\n",
        "``` bool 타입에 해당하는 것만 골라주세요```\n",
        "\n",
        "1. true\n",
        "2. True\n",
        "3. False\n",
        "4. 0\n",
        "5. 1"
      ],
      "metadata": {
        "id": "xv9TJJm4f3ij"
      }
    },
    {
      "cell_type": "markdown",
      "source": [
        "답변 2번 3번"
      ],
      "metadata": {
        "id": "n_J4DR8Ef5OG"
      }
    },
    {
      "cell_type": "markdown",
      "source": [
        "<span style=\"font-size:80%\">[문제4]<br><br></span>\n",
        "```문자열의 길이를 구하는 방법으로 올바른 것을 고르세요```\n",
        "\n",
        "라라랜드 =  \"사람들은 다른 사람들의 열정에 끌리게 되어있어 자신이 잊은 걸 상기시켜 주니까\"\n",
        "\n",
        "1. 라라랜드.len()\n",
        "2. length(라라랜드)\n",
        "3. len(라라랜드)\n",
        "4. count(라라랜드)\n",
        "\n",
        "답변 2번"
      ],
      "metadata": {
        "id": "pWxllvZBf9ou"
      }
    },
    {
      "cell_type": "markdown",
      "source": [
        "<span style=\"font-size:80%\">[문제5]<br><br></span>\n",
        "```우영우 변수에 출력 값이 반대로 나오게 코드를 작성해주세요```\n",
        "\n",
        "우영우 = \"기러기토마토스위스역삼역\"\n",
        "\n",
        "출력값 : 역삼역스위스토마토기러기\n"
      ],
      "metadata": {
        "id": "7tYvTn6lgBRe"
      }
    },
    {
      "cell_type": "code",
      "source": [
        "#우영우 = \"기러기토마토스위스역삼역\n",
        "print = (\"역삼역스위스토마토기러기\")"
      ],
      "metadata": {
        "id": "ihPEkcckgDKz"
      },
      "execution_count": 2,
      "outputs": []
    },
    {
      "cell_type": "markdown",
      "source": [],
      "metadata": {
        "id": "SNqg6GJ0gW2N"
      }
    }
  ]
}